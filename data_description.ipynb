{
  "nbformat": 4,
  "nbformat_minor": 0,
  "metadata": {
    "colab": {
      "provenance": []
    },
    "kernelspec": {
      "name": "python3",
      "display_name": "Python 3"
    },
    "language_info": {
      "name": "python"
    }
  },
  "cells": [
    {
      "cell_type": "code",
      "source": [
        "#Problem statement is related to whether a client will repay a loan or not"
      ],
      "metadata": {
        "id": "c1Fz-oXZXmT8"
      },
      "execution_count": null,
      "outputs": []
    },
    {
      "cell_type": "markdown",
      "source": [
        "Home Credit Group, a leading consumer finance provider, is facing a significant challenge in assessing the creditworthiness of loan applicants. The company currently relies on traditional credit scoring methods, which have limitations in predicting the default risk of individuals with limited or no credit history. This results in a high number of applications being rejected, even for individuals who may be capable of repaying the loan.\n",
        "\n",
        "To address this challenge, Home Credit Group is seeking innovative solutions to predict the default risk of loan applicants with greater accuracy. By developing a more robust prediction model, Home Credit Group can improve its risk assessment process, reduce the number of rejected applications, and expand its lending opportunities.\n",
        "\n",
        "Data Description\n",
        "\n",
        "The Home Credit Default Risk dataset consists of a comprehensive collection of information on over 300,000 loan applicants. The dataset includes a wide range of features, including:\n",
        "\n",
        "Demographic information: Age, gender, education level, marital status, dependents, employment status, and income level\n",
        "Credit history: Credit bureau inquiries, credit card balances, loan balances, and payment history\n",
        "Application details: Loan amount, loan purpose, and interest rate\n",
        "Behavioral information: Online activity, mobile usage, and social media engagement\n",
        "The target variable in the dataset is whether or not the loan applicant defaulted on the loan. This information can be used to train machine learning models to predict the default risk of new applicants."
      ],
      "metadata": {
        "id": "BY6pHvJDC6os"
      }
    },
    {
      "cell_type": "code",
      "execution_count": 1,
      "metadata": {
        "id": "Cee8-MjWS2wP"
      },
      "outputs": [],
      "source": [
        "import numpy as np\n",
        "import pandas as pd"
      ]
    },
    {
      "cell_type": "code",
      "source": [
        "df=pd.read_csv(r\"/content/application_train.csv\")"
      ],
      "metadata": {
        "id": "7UpwHYSQTMd_"
      },
      "execution_count": 10,
      "outputs": []
    },
    {
      "cell_type": "code",
      "source": [
        "df"
      ],
      "metadata": {
        "colab": {
          "base_uri": "https://localhost:8080/",
          "height": 443
        },
        "id": "Jh_UFL2BTXQV",
        "outputId": "777bd713-d692-4513-a2b2-60b89aa4670f"
      },
      "execution_count": 11,
      "outputs": [
        {
          "output_type": "execute_result",
          "data": {
            "text/plain": [
              "       SK_ID_CURR  TARGET NAME_CONTRACT_TYPE CODE_GENDER FLAG_OWN_CAR  \\\n",
              "0          100002       1         Cash loans           M            N   \n",
              "1          100003       0         Cash loans           F            N   \n",
              "2          100004       0    Revolving loans           M            Y   \n",
              "3          100006       0         Cash loans           F            N   \n",
              "4          100007       0         Cash loans           M            N   \n",
              "...           ...     ...                ...         ...          ...   \n",
              "15518      118111       0         Cash loans           F            Y   \n",
              "15519      118112       0         Cash loans           F            N   \n",
              "15520      118113       0         Cash loans           F            N   \n",
              "15521      118114       0         Cash loans           F            N   \n",
              "15522      118116       0         Cash loans           F            N   \n",
              "\n",
              "      FLAG_OWN_REALTY  CNT_CHILDREN  AMT_INCOME_TOTAL  AMT_CREDIT  \\\n",
              "0                   Y             0          202500.0    406597.5   \n",
              "1                   N             0          270000.0   1293502.5   \n",
              "2                   Y             0           67500.0    135000.0   \n",
              "3                   Y             0          135000.0    312682.5   \n",
              "4                   Y             0          121500.0    513000.0   \n",
              "...               ...           ...               ...         ...   \n",
              "15518               Y             2           54000.0     62554.5   \n",
              "15519               Y             1          202500.0   1546020.0   \n",
              "15520               Y             1          360000.0    229230.0   \n",
              "15521               Y             0          135000.0    590337.0   \n",
              "15522               Y             1           40500.0    298512.0   \n",
              "\n",
              "       AMT_ANNUITY  ...  FLAG_DOCUMENT_18 FLAG_DOCUMENT_19 FLAG_DOCUMENT_20  \\\n",
              "0          24700.5  ...               0.0              0.0              0.0   \n",
              "1          35698.5  ...               0.0              0.0              0.0   \n",
              "2           6750.0  ...               0.0              0.0              0.0   \n",
              "3          29686.5  ...               0.0              0.0              0.0   \n",
              "4          21865.5  ...               0.0              0.0              0.0   \n",
              "...            ...  ...               ...              ...              ...   \n",
              "15518       7551.0  ...               0.0              0.0              0.0   \n",
              "15519      45333.0  ...               0.0              0.0              0.0   \n",
              "15520      18238.5  ...               0.0              0.0              0.0   \n",
              "15521      25141.5  ...               0.0              0.0              0.0   \n",
              "15522      17136.0  ...               NaN              NaN              NaN   \n",
              "\n",
              "      FLAG_DOCUMENT_21 AMT_REQ_CREDIT_BUREAU_HOUR AMT_REQ_CREDIT_BUREAU_DAY  \\\n",
              "0                  0.0                        0.0                       0.0   \n",
              "1                  0.0                        0.0                       0.0   \n",
              "2                  0.0                        0.0                       0.0   \n",
              "3                  0.0                        NaN                       NaN   \n",
              "4                  0.0                        0.0                       0.0   \n",
              "...                ...                        ...                       ...   \n",
              "15518              0.0                        0.0                       0.0   \n",
              "15519              0.0                        0.0                       0.0   \n",
              "15520              0.0                        0.0                       0.0   \n",
              "15521              0.0                        0.0                       0.0   \n",
              "15522              NaN                        NaN                       NaN   \n",
              "\n",
              "       AMT_REQ_CREDIT_BUREAU_WEEK  AMT_REQ_CREDIT_BUREAU_MON  \\\n",
              "0                             0.0                        0.0   \n",
              "1                             0.0                        0.0   \n",
              "2                             0.0                        0.0   \n",
              "3                             NaN                        NaN   \n",
              "4                             0.0                        0.0   \n",
              "...                           ...                        ...   \n",
              "15518                         0.0                        0.0   \n",
              "15519                         0.0                        0.0   \n",
              "15520                         0.0                        0.0   \n",
              "15521                         0.0                        0.0   \n",
              "15522                         NaN                        NaN   \n",
              "\n",
              "       AMT_REQ_CREDIT_BUREAU_QRT  AMT_REQ_CREDIT_BUREAU_YEAR  \n",
              "0                            0.0                         1.0  \n",
              "1                            0.0                         0.0  \n",
              "2                            0.0                         0.0  \n",
              "3                            NaN                         NaN  \n",
              "4                            0.0                         0.0  \n",
              "...                          ...                         ...  \n",
              "15518                        1.0                         0.0  \n",
              "15519                        0.0                         2.0  \n",
              "15520                        0.0                         3.0  \n",
              "15521                        0.0                         1.0  \n",
              "15522                        NaN                         NaN  \n",
              "\n",
              "[15523 rows x 122 columns]"
            ],
            "text/html": [
              "\n",
              "  <div id=\"df-14149bb7-40ec-4ba5-9c03-31d72df24767\" class=\"colab-df-container\">\n",
              "    <div>\n",
              "<style scoped>\n",
              "    .dataframe tbody tr th:only-of-type {\n",
              "        vertical-align: middle;\n",
              "    }\n",
              "\n",
              "    .dataframe tbody tr th {\n",
              "        vertical-align: top;\n",
              "    }\n",
              "\n",
              "    .dataframe thead th {\n",
              "        text-align: right;\n",
              "    }\n",
              "</style>\n",
              "<table border=\"1\" class=\"dataframe\">\n",
              "  <thead>\n",
              "    <tr style=\"text-align: right;\">\n",
              "      <th></th>\n",
              "      <th>SK_ID_CURR</th>\n",
              "      <th>TARGET</th>\n",
              "      <th>NAME_CONTRACT_TYPE</th>\n",
              "      <th>CODE_GENDER</th>\n",
              "      <th>FLAG_OWN_CAR</th>\n",
              "      <th>FLAG_OWN_REALTY</th>\n",
              "      <th>CNT_CHILDREN</th>\n",
              "      <th>AMT_INCOME_TOTAL</th>\n",
              "      <th>AMT_CREDIT</th>\n",
              "      <th>AMT_ANNUITY</th>\n",
              "      <th>...</th>\n",
              "      <th>FLAG_DOCUMENT_18</th>\n",
              "      <th>FLAG_DOCUMENT_19</th>\n",
              "      <th>FLAG_DOCUMENT_20</th>\n",
              "      <th>FLAG_DOCUMENT_21</th>\n",
              "      <th>AMT_REQ_CREDIT_BUREAU_HOUR</th>\n",
              "      <th>AMT_REQ_CREDIT_BUREAU_DAY</th>\n",
              "      <th>AMT_REQ_CREDIT_BUREAU_WEEK</th>\n",
              "      <th>AMT_REQ_CREDIT_BUREAU_MON</th>\n",
              "      <th>AMT_REQ_CREDIT_BUREAU_QRT</th>\n",
              "      <th>AMT_REQ_CREDIT_BUREAU_YEAR</th>\n",
              "    </tr>\n",
              "  </thead>\n",
              "  <tbody>\n",
              "    <tr>\n",
              "      <th>0</th>\n",
              "      <td>100002</td>\n",
              "      <td>1</td>\n",
              "      <td>Cash loans</td>\n",
              "      <td>M</td>\n",
              "      <td>N</td>\n",
              "      <td>Y</td>\n",
              "      <td>0</td>\n",
              "      <td>202500.0</td>\n",
              "      <td>406597.5</td>\n",
              "      <td>24700.5</td>\n",
              "      <td>...</td>\n",
              "      <td>0.0</td>\n",
              "      <td>0.0</td>\n",
              "      <td>0.0</td>\n",
              "      <td>0.0</td>\n",
              "      <td>0.0</td>\n",
              "      <td>0.0</td>\n",
              "      <td>0.0</td>\n",
              "      <td>0.0</td>\n",
              "      <td>0.0</td>\n",
              "      <td>1.0</td>\n",
              "    </tr>\n",
              "    <tr>\n",
              "      <th>1</th>\n",
              "      <td>100003</td>\n",
              "      <td>0</td>\n",
              "      <td>Cash loans</td>\n",
              "      <td>F</td>\n",
              "      <td>N</td>\n",
              "      <td>N</td>\n",
              "      <td>0</td>\n",
              "      <td>270000.0</td>\n",
              "      <td>1293502.5</td>\n",
              "      <td>35698.5</td>\n",
              "      <td>...</td>\n",
              "      <td>0.0</td>\n",
              "      <td>0.0</td>\n",
              "      <td>0.0</td>\n",
              "      <td>0.0</td>\n",
              "      <td>0.0</td>\n",
              "      <td>0.0</td>\n",
              "      <td>0.0</td>\n",
              "      <td>0.0</td>\n",
              "      <td>0.0</td>\n",
              "      <td>0.0</td>\n",
              "    </tr>\n",
              "    <tr>\n",
              "      <th>2</th>\n",
              "      <td>100004</td>\n",
              "      <td>0</td>\n",
              "      <td>Revolving loans</td>\n",
              "      <td>M</td>\n",
              "      <td>Y</td>\n",
              "      <td>Y</td>\n",
              "      <td>0</td>\n",
              "      <td>67500.0</td>\n",
              "      <td>135000.0</td>\n",
              "      <td>6750.0</td>\n",
              "      <td>...</td>\n",
              "      <td>0.0</td>\n",
              "      <td>0.0</td>\n",
              "      <td>0.0</td>\n",
              "      <td>0.0</td>\n",
              "      <td>0.0</td>\n",
              "      <td>0.0</td>\n",
              "      <td>0.0</td>\n",
              "      <td>0.0</td>\n",
              "      <td>0.0</td>\n",
              "      <td>0.0</td>\n",
              "    </tr>\n",
              "    <tr>\n",
              "      <th>3</th>\n",
              "      <td>100006</td>\n",
              "      <td>0</td>\n",
              "      <td>Cash loans</td>\n",
              "      <td>F</td>\n",
              "      <td>N</td>\n",
              "      <td>Y</td>\n",
              "      <td>0</td>\n",
              "      <td>135000.0</td>\n",
              "      <td>312682.5</td>\n",
              "      <td>29686.5</td>\n",
              "      <td>...</td>\n",
              "      <td>0.0</td>\n",
              "      <td>0.0</td>\n",
              "      <td>0.0</td>\n",
              "      <td>0.0</td>\n",
              "      <td>NaN</td>\n",
              "      <td>NaN</td>\n",
              "      <td>NaN</td>\n",
              "      <td>NaN</td>\n",
              "      <td>NaN</td>\n",
              "      <td>NaN</td>\n",
              "    </tr>\n",
              "    <tr>\n",
              "      <th>4</th>\n",
              "      <td>100007</td>\n",
              "      <td>0</td>\n",
              "      <td>Cash loans</td>\n",
              "      <td>M</td>\n",
              "      <td>N</td>\n",
              "      <td>Y</td>\n",
              "      <td>0</td>\n",
              "      <td>121500.0</td>\n",
              "      <td>513000.0</td>\n",
              "      <td>21865.5</td>\n",
              "      <td>...</td>\n",
              "      <td>0.0</td>\n",
              "      <td>0.0</td>\n",
              "      <td>0.0</td>\n",
              "      <td>0.0</td>\n",
              "      <td>0.0</td>\n",
              "      <td>0.0</td>\n",
              "      <td>0.0</td>\n",
              "      <td>0.0</td>\n",
              "      <td>0.0</td>\n",
              "      <td>0.0</td>\n",
              "    </tr>\n",
              "    <tr>\n",
              "      <th>...</th>\n",
              "      <td>...</td>\n",
              "      <td>...</td>\n",
              "      <td>...</td>\n",
              "      <td>...</td>\n",
              "      <td>...</td>\n",
              "      <td>...</td>\n",
              "      <td>...</td>\n",
              "      <td>...</td>\n",
              "      <td>...</td>\n",
              "      <td>...</td>\n",
              "      <td>...</td>\n",
              "      <td>...</td>\n",
              "      <td>...</td>\n",
              "      <td>...</td>\n",
              "      <td>...</td>\n",
              "      <td>...</td>\n",
              "      <td>...</td>\n",
              "      <td>...</td>\n",
              "      <td>...</td>\n",
              "      <td>...</td>\n",
              "      <td>...</td>\n",
              "    </tr>\n",
              "    <tr>\n",
              "      <th>15518</th>\n",
              "      <td>118111</td>\n",
              "      <td>0</td>\n",
              "      <td>Cash loans</td>\n",
              "      <td>F</td>\n",
              "      <td>Y</td>\n",
              "      <td>Y</td>\n",
              "      <td>2</td>\n",
              "      <td>54000.0</td>\n",
              "      <td>62554.5</td>\n",
              "      <td>7551.0</td>\n",
              "      <td>...</td>\n",
              "      <td>0.0</td>\n",
              "      <td>0.0</td>\n",
              "      <td>0.0</td>\n",
              "      <td>0.0</td>\n",
              "      <td>0.0</td>\n",
              "      <td>0.0</td>\n",
              "      <td>0.0</td>\n",
              "      <td>0.0</td>\n",
              "      <td>1.0</td>\n",
              "      <td>0.0</td>\n",
              "    </tr>\n",
              "    <tr>\n",
              "      <th>15519</th>\n",
              "      <td>118112</td>\n",
              "      <td>0</td>\n",
              "      <td>Cash loans</td>\n",
              "      <td>F</td>\n",
              "      <td>N</td>\n",
              "      <td>Y</td>\n",
              "      <td>1</td>\n",
              "      <td>202500.0</td>\n",
              "      <td>1546020.0</td>\n",
              "      <td>45333.0</td>\n",
              "      <td>...</td>\n",
              "      <td>0.0</td>\n",
              "      <td>0.0</td>\n",
              "      <td>0.0</td>\n",
              "      <td>0.0</td>\n",
              "      <td>0.0</td>\n",
              "      <td>0.0</td>\n",
              "      <td>0.0</td>\n",
              "      <td>0.0</td>\n",
              "      <td>0.0</td>\n",
              "      <td>2.0</td>\n",
              "    </tr>\n",
              "    <tr>\n",
              "      <th>15520</th>\n",
              "      <td>118113</td>\n",
              "      <td>0</td>\n",
              "      <td>Cash loans</td>\n",
              "      <td>F</td>\n",
              "      <td>N</td>\n",
              "      <td>Y</td>\n",
              "      <td>1</td>\n",
              "      <td>360000.0</td>\n",
              "      <td>229230.0</td>\n",
              "      <td>18238.5</td>\n",
              "      <td>...</td>\n",
              "      <td>0.0</td>\n",
              "      <td>0.0</td>\n",
              "      <td>0.0</td>\n",
              "      <td>0.0</td>\n",
              "      <td>0.0</td>\n",
              "      <td>0.0</td>\n",
              "      <td>0.0</td>\n",
              "      <td>0.0</td>\n",
              "      <td>0.0</td>\n",
              "      <td>3.0</td>\n",
              "    </tr>\n",
              "    <tr>\n",
              "      <th>15521</th>\n",
              "      <td>118114</td>\n",
              "      <td>0</td>\n",
              "      <td>Cash loans</td>\n",
              "      <td>F</td>\n",
              "      <td>N</td>\n",
              "      <td>Y</td>\n",
              "      <td>0</td>\n",
              "      <td>135000.0</td>\n",
              "      <td>590337.0</td>\n",
              "      <td>25141.5</td>\n",
              "      <td>...</td>\n",
              "      <td>0.0</td>\n",
              "      <td>0.0</td>\n",
              "      <td>0.0</td>\n",
              "      <td>0.0</td>\n",
              "      <td>0.0</td>\n",
              "      <td>0.0</td>\n",
              "      <td>0.0</td>\n",
              "      <td>0.0</td>\n",
              "      <td>0.0</td>\n",
              "      <td>1.0</td>\n",
              "    </tr>\n",
              "    <tr>\n",
              "      <th>15522</th>\n",
              "      <td>118116</td>\n",
              "      <td>0</td>\n",
              "      <td>Cash loans</td>\n",
              "      <td>F</td>\n",
              "      <td>N</td>\n",
              "      <td>Y</td>\n",
              "      <td>1</td>\n",
              "      <td>40500.0</td>\n",
              "      <td>298512.0</td>\n",
              "      <td>17136.0</td>\n",
              "      <td>...</td>\n",
              "      <td>NaN</td>\n",
              "      <td>NaN</td>\n",
              "      <td>NaN</td>\n",
              "      <td>NaN</td>\n",
              "      <td>NaN</td>\n",
              "      <td>NaN</td>\n",
              "      <td>NaN</td>\n",
              "      <td>NaN</td>\n",
              "      <td>NaN</td>\n",
              "      <td>NaN</td>\n",
              "    </tr>\n",
              "  </tbody>\n",
              "</table>\n",
              "<p>15523 rows × 122 columns</p>\n",
              "</div>\n",
              "    <div class=\"colab-df-buttons\">\n",
              "\n",
              "  <div class=\"colab-df-container\">\n",
              "    <button class=\"colab-df-convert\" onclick=\"convertToInteractive('df-14149bb7-40ec-4ba5-9c03-31d72df24767')\"\n",
              "            title=\"Convert this dataframe to an interactive table.\"\n",
              "            style=\"display:none;\">\n",
              "\n",
              "  <svg xmlns=\"http://www.w3.org/2000/svg\" height=\"24px\" viewBox=\"0 -960 960 960\">\n",
              "    <path d=\"M120-120v-720h720v720H120Zm60-500h600v-160H180v160Zm220 220h160v-160H400v160Zm0 220h160v-160H400v160ZM180-400h160v-160H180v160Zm440 0h160v-160H620v160ZM180-180h160v-160H180v160Zm440 0h160v-160H620v160Z\"/>\n",
              "  </svg>\n",
              "    </button>\n",
              "\n",
              "  <style>\n",
              "    .colab-df-container {\n",
              "      display:flex;\n",
              "      gap: 12px;\n",
              "    }\n",
              "\n",
              "    .colab-df-convert {\n",
              "      background-color: #E8F0FE;\n",
              "      border: none;\n",
              "      border-radius: 50%;\n",
              "      cursor: pointer;\n",
              "      display: none;\n",
              "      fill: #1967D2;\n",
              "      height: 32px;\n",
              "      padding: 0 0 0 0;\n",
              "      width: 32px;\n",
              "    }\n",
              "\n",
              "    .colab-df-convert:hover {\n",
              "      background-color: #E2EBFA;\n",
              "      box-shadow: 0px 1px 2px rgba(60, 64, 67, 0.3), 0px 1px 3px 1px rgba(60, 64, 67, 0.15);\n",
              "      fill: #174EA6;\n",
              "    }\n",
              "\n",
              "    .colab-df-buttons div {\n",
              "      margin-bottom: 4px;\n",
              "    }\n",
              "\n",
              "    [theme=dark] .colab-df-convert {\n",
              "      background-color: #3B4455;\n",
              "      fill: #D2E3FC;\n",
              "    }\n",
              "\n",
              "    [theme=dark] .colab-df-convert:hover {\n",
              "      background-color: #434B5C;\n",
              "      box-shadow: 0px 1px 3px 1px rgba(0, 0, 0, 0.15);\n",
              "      filter: drop-shadow(0px 1px 2px rgba(0, 0, 0, 0.3));\n",
              "      fill: #FFFFFF;\n",
              "    }\n",
              "  </style>\n",
              "\n",
              "    <script>\n",
              "      const buttonEl =\n",
              "        document.querySelector('#df-14149bb7-40ec-4ba5-9c03-31d72df24767 button.colab-df-convert');\n",
              "      buttonEl.style.display =\n",
              "        google.colab.kernel.accessAllowed ? 'block' : 'none';\n",
              "\n",
              "      async function convertToInteractive(key) {\n",
              "        const element = document.querySelector('#df-14149bb7-40ec-4ba5-9c03-31d72df24767');\n",
              "        const dataTable =\n",
              "          await google.colab.kernel.invokeFunction('convertToInteractive',\n",
              "                                                    [key], {});\n",
              "        if (!dataTable) return;\n",
              "\n",
              "        const docLinkHtml = 'Like what you see? Visit the ' +\n",
              "          '<a target=\"_blank\" href=https://colab.research.google.com/notebooks/data_table.ipynb>data table notebook</a>'\n",
              "          + ' to learn more about interactive tables.';\n",
              "        element.innerHTML = '';\n",
              "        dataTable['output_type'] = 'display_data';\n",
              "        await google.colab.output.renderOutput(dataTable, element);\n",
              "        const docLink = document.createElement('div');\n",
              "        docLink.innerHTML = docLinkHtml;\n",
              "        element.appendChild(docLink);\n",
              "      }\n",
              "    </script>\n",
              "  </div>\n",
              "\n",
              "\n",
              "<div id=\"df-6fe7e485-d37e-414a-9b0e-ac0ab05987ef\">\n",
              "  <button class=\"colab-df-quickchart\" onclick=\"quickchart('df-6fe7e485-d37e-414a-9b0e-ac0ab05987ef')\"\n",
              "            title=\"Suggest charts.\"\n",
              "            style=\"display:none;\">\n",
              "\n",
              "<svg xmlns=\"http://www.w3.org/2000/svg\" height=\"24px\"viewBox=\"0 0 24 24\"\n",
              "     width=\"24px\">\n",
              "    <g>\n",
              "        <path d=\"M19 3H5c-1.1 0-2 .9-2 2v14c0 1.1.9 2 2 2h14c1.1 0 2-.9 2-2V5c0-1.1-.9-2-2-2zM9 17H7v-7h2v7zm4 0h-2V7h2v10zm4 0h-2v-4h2v4z\"/>\n",
              "    </g>\n",
              "</svg>\n",
              "  </button>\n",
              "\n",
              "<style>\n",
              "  .colab-df-quickchart {\n",
              "      --bg-color: #E8F0FE;\n",
              "      --fill-color: #1967D2;\n",
              "      --hover-bg-color: #E2EBFA;\n",
              "      --hover-fill-color: #174EA6;\n",
              "      --disabled-fill-color: #AAA;\n",
              "      --disabled-bg-color: #DDD;\n",
              "  }\n",
              "\n",
              "  [theme=dark] .colab-df-quickchart {\n",
              "      --bg-color: #3B4455;\n",
              "      --fill-color: #D2E3FC;\n",
              "      --hover-bg-color: #434B5C;\n",
              "      --hover-fill-color: #FFFFFF;\n",
              "      --disabled-bg-color: #3B4455;\n",
              "      --disabled-fill-color: #666;\n",
              "  }\n",
              "\n",
              "  .colab-df-quickchart {\n",
              "    background-color: var(--bg-color);\n",
              "    border: none;\n",
              "    border-radius: 50%;\n",
              "    cursor: pointer;\n",
              "    display: none;\n",
              "    fill: var(--fill-color);\n",
              "    height: 32px;\n",
              "    padding: 0;\n",
              "    width: 32px;\n",
              "  }\n",
              "\n",
              "  .colab-df-quickchart:hover {\n",
              "    background-color: var(--hover-bg-color);\n",
              "    box-shadow: 0 1px 2px rgba(60, 64, 67, 0.3), 0 1px 3px 1px rgba(60, 64, 67, 0.15);\n",
              "    fill: var(--button-hover-fill-color);\n",
              "  }\n",
              "\n",
              "  .colab-df-quickchart-complete:disabled,\n",
              "  .colab-df-quickchart-complete:disabled:hover {\n",
              "    background-color: var(--disabled-bg-color);\n",
              "    fill: var(--disabled-fill-color);\n",
              "    box-shadow: none;\n",
              "  }\n",
              "\n",
              "  .colab-df-spinner {\n",
              "    border: 2px solid var(--fill-color);\n",
              "    border-color: transparent;\n",
              "    border-bottom-color: var(--fill-color);\n",
              "    animation:\n",
              "      spin 1s steps(1) infinite;\n",
              "  }\n",
              "\n",
              "  @keyframes spin {\n",
              "    0% {\n",
              "      border-color: transparent;\n",
              "      border-bottom-color: var(--fill-color);\n",
              "      border-left-color: var(--fill-color);\n",
              "    }\n",
              "    20% {\n",
              "      border-color: transparent;\n",
              "      border-left-color: var(--fill-color);\n",
              "      border-top-color: var(--fill-color);\n",
              "    }\n",
              "    30% {\n",
              "      border-color: transparent;\n",
              "      border-left-color: var(--fill-color);\n",
              "      border-top-color: var(--fill-color);\n",
              "      border-right-color: var(--fill-color);\n",
              "    }\n",
              "    40% {\n",
              "      border-color: transparent;\n",
              "      border-right-color: var(--fill-color);\n",
              "      border-top-color: var(--fill-color);\n",
              "    }\n",
              "    60% {\n",
              "      border-color: transparent;\n",
              "      border-right-color: var(--fill-color);\n",
              "    }\n",
              "    80% {\n",
              "      border-color: transparent;\n",
              "      border-right-color: var(--fill-color);\n",
              "      border-bottom-color: var(--fill-color);\n",
              "    }\n",
              "    90% {\n",
              "      border-color: transparent;\n",
              "      border-bottom-color: var(--fill-color);\n",
              "    }\n",
              "  }\n",
              "</style>\n",
              "\n",
              "  <script>\n",
              "    async function quickchart(key) {\n",
              "      const quickchartButtonEl =\n",
              "        document.querySelector('#' + key + ' button');\n",
              "      quickchartButtonEl.disabled = true;  // To prevent multiple clicks.\n",
              "      quickchartButtonEl.classList.add('colab-df-spinner');\n",
              "      try {\n",
              "        const charts = await google.colab.kernel.invokeFunction(\n",
              "            'suggestCharts', [key], {});\n",
              "      } catch (error) {\n",
              "        console.error('Error during call to suggestCharts:', error);\n",
              "      }\n",
              "      quickchartButtonEl.classList.remove('colab-df-spinner');\n",
              "      quickchartButtonEl.classList.add('colab-df-quickchart-complete');\n",
              "    }\n",
              "    (() => {\n",
              "      let quickchartButtonEl =\n",
              "        document.querySelector('#df-6fe7e485-d37e-414a-9b0e-ac0ab05987ef button');\n",
              "      quickchartButtonEl.style.display =\n",
              "        google.colab.kernel.accessAllowed ? 'block' : 'none';\n",
              "    })();\n",
              "  </script>\n",
              "</div>\n",
              "    </div>\n",
              "  </div>\n"
            ]
          },
          "metadata": {},
          "execution_count": 11
        }
      ]
    },
    {
      "cell_type": "markdown",
      "source": [
        "AMT_REQ_CREDIT_BUREAU_HOUR: Inquiries made within the hour before the loan application\n",
        "AMT_REQ_CREDIT_BUREAU_DAY: Inquiries made on the day of the loan application, excluding the last hour\n",
        "AMT_REQ_CREDIT_BUREAU_WEEK: Inquiries made within the week before the loan application, excluding the last day\n",
        "AMT_REQ_CREDIT_BUREAU_MON: Inquiries made within the month before the loan application, excluding the last week\n",
        "AMT_REQ_CREDIT_BUREAU_QRT: Inquiries made within the quarter before the loan application, excluding the last month"
      ],
      "metadata": {
        "id": "kJ_9b53tZ5Jg"
      }
    },
    {
      "cell_type": "code",
      "source": [
        "df['AMT_REQ_CREDIT_BUREAU_HOUR'].value_counts()\n",
        "# 0:No inquiries to the Credit Bureau within the hour before the application\n",
        "#1: One inquiry to the Credit Bureau within the hour before the application\n",
        "#2: Two or more inquiries to the Credit Bureau within the hour before the application"
      ],
      "metadata": {
        "colab": {
          "base_uri": "https://localhost:8080/"
        },
        "id": "qM5c7pFmTeKs",
        "outputId": "fe0a3db4-e51e-4653-b1ad-d417a7965623"
      },
      "execution_count": 12,
      "outputs": [
        {
          "output_type": "execute_result",
          "data": {
            "text/plain": [
              "0.0    13345\n",
              "1.0       90\n",
              "2.0        3\n",
              "Name: AMT_REQ_CREDIT_BUREAU_HOUR, dtype: int64"
            ]
          },
          "metadata": {},
          "execution_count": 12
        }
      ]
    },
    {
      "cell_type": "markdown",
      "source": [
        "More amount of inquiries from particular client denotes more financial instability"
      ],
      "metadata": {
        "id": "YQeiI9qjb7gI"
      }
    },
    {
      "cell_type": "code",
      "source": [
        "df['FLAG_OWN_REALTY'].value_counts()#Y-property owned,N-no Property owned yet"
      ],
      "metadata": {
        "colab": {
          "base_uri": "https://localhost:8080/"
        },
        "id": "eEi1TRcEb6tR",
        "outputId": "aad48fd5-1f58-4aa0-9397-dece007bc237"
      },
      "execution_count": 20,
      "outputs": [
        {
          "output_type": "execute_result",
          "data": {
            "text/plain": [
              "Y    10827\n",
              "N     4696\n",
              "Name: FLAG_OWN_REALTY, dtype: int64"
            ]
          },
          "metadata": {},
          "execution_count": 20
        }
      ]
    },
    {
      "cell_type": "code",
      "source": [
        "df.columns"
      ],
      "metadata": {
        "colab": {
          "base_uri": "https://localhost:8080/"
        },
        "id": "yB4ZATYDTeTE",
        "outputId": "cfc3cb13-6119-4c40-92c8-c3f3823c0439"
      },
      "execution_count": 13,
      "outputs": [
        {
          "output_type": "execute_result",
          "data": {
            "text/plain": [
              "Index(['SK_ID_CURR', 'TARGET', 'NAME_CONTRACT_TYPE', 'CODE_GENDER',\n",
              "       'FLAG_OWN_CAR', 'FLAG_OWN_REALTY', 'CNT_CHILDREN', 'AMT_INCOME_TOTAL',\n",
              "       'AMT_CREDIT', 'AMT_ANNUITY',\n",
              "       ...\n",
              "       'FLAG_DOCUMENT_18', 'FLAG_DOCUMENT_19', 'FLAG_DOCUMENT_20',\n",
              "       'FLAG_DOCUMENT_21', 'AMT_REQ_CREDIT_BUREAU_HOUR',\n",
              "       'AMT_REQ_CREDIT_BUREAU_DAY', 'AMT_REQ_CREDIT_BUREAU_WEEK',\n",
              "       'AMT_REQ_CREDIT_BUREAU_MON', 'AMT_REQ_CREDIT_BUREAU_QRT',\n",
              "       'AMT_REQ_CREDIT_BUREAU_YEAR'],\n",
              "      dtype='object', length=122)"
            ]
          },
          "metadata": {},
          "execution_count": 13
        }
      ]
    },
    {
      "cell_type": "code",
      "source": [
        "df['TARGET']#1- client repaid and 0-client not repaid yet"
      ],
      "metadata": {
        "colab": {
          "base_uri": "https://localhost:8080/"
        },
        "id": "2TR_ocDDTeWs",
        "outputId": "aa3d9133-cf4b-4fc8-97e0-7607b26e63c2"
      },
      "execution_count": 15,
      "outputs": [
        {
          "output_type": "execute_result",
          "data": {
            "text/plain": [
              "0        1\n",
              "1        0\n",
              "2        0\n",
              "3        0\n",
              "4        0\n",
              "        ..\n",
              "15518    0\n",
              "15519    0\n",
              "15520    0\n",
              "15521    0\n",
              "15522    0\n",
              "Name: TARGET, Length: 15523, dtype: int64"
            ]
          },
          "metadata": {},
          "execution_count": 15
        }
      ]
    },
    {
      "cell_type": "markdown",
      "source": [
        "Flag document- Any valid document whether client provided or not ,if not provided then particular client will be risk for us"
      ],
      "metadata": {
        "id": "lN5D0scGcWKH"
      }
    },
    {
      "cell_type": "code",
      "source": [
        "df['FLAG_DOCUMENT_20'].value_counts()#in which 1-clients provide valid document and then 0-not provide value document"
      ],
      "metadata": {
        "colab": {
          "base_uri": "https://localhost:8080/"
        },
        "id": "coTtqaxbaIj7",
        "outputId": "6a732c44-e0bd-4d35-c2e7-5b830dff5230"
      },
      "execution_count": 19,
      "outputs": [
        {
          "output_type": "execute_result",
          "data": {
            "text/plain": [
              "0.0    15514\n",
              "1.0        8\n",
              "Name: FLAG_DOCUMENT_20, dtype: int64"
            ]
          },
          "metadata": {},
          "execution_count": 19
        }
      ]
    },
    {
      "cell_type": "markdown",
      "source": [
        "AMT_INCOME_TOTAL: The total income of the loan applicant. This value is calculated by adding up the applicant's reported income from all sources.\n",
        "\n",
        "AMT_CREDIT: The total amount of credit that the loan applicant is currently using. This value includes the applicant's outstanding credit card balances, loan balances, and other outstanding debts.\n",
        "\n",
        "AMT_ANNUITY: The annual payment amount for the loan that the applicant is applying for. This value is calculated based on the loan amount, interest rate, and loan term."
      ],
      "metadata": {
        "id": "3pblR97jfdne"
      }
    },
    {
      "cell_type": "code",
      "source": [
        "list(df.columns)"
      ],
      "metadata": {
        "colab": {
          "base_uri": "https://localhost:8080/"
        },
        "id": "0m_OI9cgfcLB",
        "outputId": "bef2fd21-5782-416d-ccbc-feb5819dcbc2"
      },
      "execution_count": 22,
      "outputs": [
        {
          "output_type": "execute_result",
          "data": {
            "text/plain": [
              "['SK_ID_CURR',\n",
              " 'TARGET',\n",
              " 'NAME_CONTRACT_TYPE',\n",
              " 'CODE_GENDER',\n",
              " 'FLAG_OWN_CAR',\n",
              " 'FLAG_OWN_REALTY',\n",
              " 'CNT_CHILDREN',\n",
              " 'AMT_INCOME_TOTAL',\n",
              " 'AMT_CREDIT',\n",
              " 'AMT_ANNUITY',\n",
              " 'AMT_GOODS_PRICE',\n",
              " 'NAME_TYPE_SUITE',\n",
              " 'NAME_INCOME_TYPE',\n",
              " 'NAME_EDUCATION_TYPE',\n",
              " 'NAME_FAMILY_STATUS',\n",
              " 'NAME_HOUSING_TYPE',\n",
              " 'REGION_POPULATION_RELATIVE',\n",
              " 'DAYS_BIRTH',\n",
              " 'DAYS_EMPLOYED',\n",
              " 'DAYS_REGISTRATION',\n",
              " 'DAYS_ID_PUBLISH',\n",
              " 'OWN_CAR_AGE',\n",
              " 'FLAG_MOBIL',\n",
              " 'FLAG_EMP_PHONE',\n",
              " 'FLAG_WORK_PHONE',\n",
              " 'FLAG_CONT_MOBILE',\n",
              " 'FLAG_PHONE',\n",
              " 'FLAG_EMAIL',\n",
              " 'OCCUPATION_TYPE',\n",
              " 'CNT_FAM_MEMBERS',\n",
              " 'REGION_RATING_CLIENT',\n",
              " 'REGION_RATING_CLIENT_W_CITY',\n",
              " 'WEEKDAY_APPR_PROCESS_START',\n",
              " 'HOUR_APPR_PROCESS_START',\n",
              " 'REG_REGION_NOT_LIVE_REGION',\n",
              " 'REG_REGION_NOT_WORK_REGION',\n",
              " 'LIVE_REGION_NOT_WORK_REGION',\n",
              " 'REG_CITY_NOT_LIVE_CITY',\n",
              " 'REG_CITY_NOT_WORK_CITY',\n",
              " 'LIVE_CITY_NOT_WORK_CITY',\n",
              " 'ORGANIZATION_TYPE',\n",
              " 'EXT_SOURCE_1',\n",
              " 'EXT_SOURCE_2',\n",
              " 'EXT_SOURCE_3',\n",
              " 'APARTMENTS_AVG',\n",
              " 'BASEMENTAREA_AVG',\n",
              " 'YEARS_BEGINEXPLUATATION_AVG',\n",
              " 'YEARS_BUILD_AVG',\n",
              " 'COMMONAREA_AVG',\n",
              " 'ELEVATORS_AVG',\n",
              " 'ENTRANCES_AVG',\n",
              " 'FLOORSMAX_AVG',\n",
              " 'FLOORSMIN_AVG',\n",
              " 'LANDAREA_AVG',\n",
              " 'LIVINGAPARTMENTS_AVG',\n",
              " 'LIVINGAREA_AVG',\n",
              " 'NONLIVINGAPARTMENTS_AVG',\n",
              " 'NONLIVINGAREA_AVG',\n",
              " 'APARTMENTS_MODE',\n",
              " 'BASEMENTAREA_MODE',\n",
              " 'YEARS_BEGINEXPLUATATION_MODE',\n",
              " 'YEARS_BUILD_MODE',\n",
              " 'COMMONAREA_MODE',\n",
              " 'ELEVATORS_MODE',\n",
              " 'ENTRANCES_MODE',\n",
              " 'FLOORSMAX_MODE',\n",
              " 'FLOORSMIN_MODE',\n",
              " 'LANDAREA_MODE',\n",
              " 'LIVINGAPARTMENTS_MODE',\n",
              " 'LIVINGAREA_MODE',\n",
              " 'NONLIVINGAPARTMENTS_MODE',\n",
              " 'NONLIVINGAREA_MODE',\n",
              " 'APARTMENTS_MEDI',\n",
              " 'BASEMENTAREA_MEDI',\n",
              " 'YEARS_BEGINEXPLUATATION_MEDI',\n",
              " 'YEARS_BUILD_MEDI',\n",
              " 'COMMONAREA_MEDI',\n",
              " 'ELEVATORS_MEDI',\n",
              " 'ENTRANCES_MEDI',\n",
              " 'FLOORSMAX_MEDI',\n",
              " 'FLOORSMIN_MEDI',\n",
              " 'LANDAREA_MEDI',\n",
              " 'LIVINGAPARTMENTS_MEDI',\n",
              " 'LIVINGAREA_MEDI',\n",
              " 'NONLIVINGAPARTMENTS_MEDI',\n",
              " 'NONLIVINGAREA_MEDI',\n",
              " 'FONDKAPREMONT_MODE',\n",
              " 'HOUSETYPE_MODE',\n",
              " 'TOTALAREA_MODE',\n",
              " 'WALLSMATERIAL_MODE',\n",
              " 'EMERGENCYSTATE_MODE',\n",
              " 'OBS_30_CNT_SOCIAL_CIRCLE',\n",
              " 'DEF_30_CNT_SOCIAL_CIRCLE',\n",
              " 'OBS_60_CNT_SOCIAL_CIRCLE',\n",
              " 'DEF_60_CNT_SOCIAL_CIRCLE',\n",
              " 'DAYS_LAST_PHONE_CHANGE',\n",
              " 'FLAG_DOCUMENT_2',\n",
              " 'FLAG_DOCUMENT_3',\n",
              " 'FLAG_DOCUMENT_4',\n",
              " 'FLAG_DOCUMENT_5',\n",
              " 'FLAG_DOCUMENT_6',\n",
              " 'FLAG_DOCUMENT_7',\n",
              " 'FLAG_DOCUMENT_8',\n",
              " 'FLAG_DOCUMENT_9',\n",
              " 'FLAG_DOCUMENT_10',\n",
              " 'FLAG_DOCUMENT_11',\n",
              " 'FLAG_DOCUMENT_12',\n",
              " 'FLAG_DOCUMENT_13',\n",
              " 'FLAG_DOCUMENT_14',\n",
              " 'FLAG_DOCUMENT_15',\n",
              " 'FLAG_DOCUMENT_16',\n",
              " 'FLAG_DOCUMENT_17',\n",
              " 'FLAG_DOCUMENT_18',\n",
              " 'FLAG_DOCUMENT_19',\n",
              " 'FLAG_DOCUMENT_20',\n",
              " 'FLAG_DOCUMENT_21',\n",
              " 'AMT_REQ_CREDIT_BUREAU_HOUR',\n",
              " 'AMT_REQ_CREDIT_BUREAU_DAY',\n",
              " 'AMT_REQ_CREDIT_BUREAU_WEEK',\n",
              " 'AMT_REQ_CREDIT_BUREAU_MON',\n",
              " 'AMT_REQ_CREDIT_BUREAU_QRT',\n",
              " 'AMT_REQ_CREDIT_BUREAU_YEAR']"
            ]
          },
          "metadata": {},
          "execution_count": 22
        }
      ]
    },
    {
      "cell_type": "code",
      "source": [
        "df[\"AMT_GOODS_PRICE\"]#This value can be used to assess the applicant's creditworthiness and the purpose of the loan.\n",
        "#Lower amount-Low support/money needed\n",
        "#Higher amount-High support/money needed or expecting some expensive needed"
      ],
      "metadata": {
        "colab": {
          "base_uri": "https://localhost:8080/"
        },
        "id": "a52BaMFHgKd2",
        "outputId": "9be6b6e4-5711-4e2b-8477-e16c89306086"
      },
      "execution_count": 23,
      "outputs": [
        {
          "output_type": "execute_result",
          "data": {
            "text/plain": [
              "0         351000.0\n",
              "1        1129500.0\n",
              "2         135000.0\n",
              "3         297000.0\n",
              "4         513000.0\n",
              "           ...    \n",
              "15518      54000.0\n",
              "15519    1350000.0\n",
              "15520     202500.0\n",
              "15521     477000.0\n",
              "15522     270000.0\n",
              "Name: AMT_GOODS_PRICE, Length: 15523, dtype: float64"
            ]
          },
          "metadata": {},
          "execution_count": 23
        }
      ]
    },
    {
      "cell_type": "code",
      "source": [
        "df[\"NAME_TYPE_SUITE\"].value_counts() #Unaccompanied-singles"
      ],
      "metadata": {
        "colab": {
          "base_uri": "https://localhost:8080/"
        },
        "id": "g1aRYD7rgtRH",
        "outputId": "a8c6ecbc-dd79-44e7-9231-8c444b6db204"
      },
      "execution_count": 26,
      "outputs": [
        {
          "output_type": "execute_result",
          "data": {
            "text/plain": [
              "Unaccompanied      12559\n",
              "Family              2032\n",
              "Spouse, partner      564\n",
              "Children             173\n",
              "Other_B               79\n",
              "Other_A               40\n",
              "Group of people       13\n",
              "Name: NAME_TYPE_SUITE, dtype: int64"
            ]
          },
          "metadata": {},
          "execution_count": 26
        }
      ]
    },
    {
      "cell_type": "code",
      "source": [
        "df['NAME_INCOME_TYPE'].value_counts()"
      ],
      "metadata": {
        "colab": {
          "base_uri": "https://localhost:8080/"
        },
        "id": "Wn5y2gPufiFG",
        "outputId": "e3003e73-0a4c-463e-d1a1-4cd9e03fedd6"
      },
      "execution_count": 28,
      "outputs": [
        {
          "output_type": "execute_result",
          "data": {
            "text/plain": [
              "Working                 8133\n",
              "Commercial associate    3593\n",
              "Pensioner               2752\n",
              "State servant           1042\n",
              "Unemployed                 2\n",
              "Student                    1\n",
              "Name: NAME_INCOME_TYPE, dtype: int64"
            ]
          },
          "metadata": {},
          "execution_count": 28
        }
      ]
    },
    {
      "cell_type": "code",
      "source": [
        "df['NAME_HOUSING_TYPE'].value_counts()"
      ],
      "metadata": {
        "colab": {
          "base_uri": "https://localhost:8080/"
        },
        "id": "18Cx_aIMGfQ0",
        "outputId": "c2d65203-3655-4691-9e5a-a38da51e77b2"
      },
      "execution_count": 30,
      "outputs": [
        {
          "output_type": "execute_result",
          "data": {
            "text/plain": [
              "House / apartment      13762\n",
              "With parents             746\n",
              "Municipal apartment      577\n",
              "Rented apartment         246\n",
              "Office apartment         126\n",
              "Co-op apartment           66\n",
              "Name: NAME_HOUSING_TYPE, dtype: int64"
            ]
          },
          "metadata": {},
          "execution_count": 30
        }
      ]
    },
    {
      "cell_type": "code",
      "source": [
        "df['REGION_POPULATION_RELATIVE']\n",
        "#High values (above 1): Indicates that the applicant lives in a densely populated region, possibly a major city or urban area.\n",
        "#Mid-range values (around 0.5 - 1): Indicates that the applicant lives in a moderately populated area, possibly a smaller city or suburban area.\n",
        "#Low values (below 0.5): Indicates that the applicant lives in a less densely populated area, possibly a rural area or small town."
      ],
      "metadata": {
        "colab": {
          "base_uri": "https://localhost:8080/"
        },
        "id": "CV3KCOFUGyb4",
        "outputId": "7e5950be-7e3e-465d-8cdf-b4fc1e6f79bd"
      },
      "execution_count": 32,
      "outputs": [
        {
          "output_type": "execute_result",
          "data": {
            "text/plain": [
              "0        0.018801\n",
              "1        0.003541\n",
              "2        0.010032\n",
              "3        0.008019\n",
              "4        0.028663\n",
              "           ...   \n",
              "15518    0.007120\n",
              "15519    0.016612\n",
              "15520    0.072508\n",
              "15521    0.010556\n",
              "15522    0.015221\n",
              "Name: REGION_POPULATION_RELATIVE, Length: 15523, dtype: float64"
            ]
          },
          "metadata": {},
          "execution_count": 32
        }
      ]
    },
    {
      "cell_type": "code",
      "source": [
        "df['CNT_FAM_MEMBERS'].value_counts() #This column represents the number of family members in the loan applicant's household."
      ],
      "metadata": {
        "colab": {
          "base_uri": "https://localhost:8080/"
        },
        "id": "zHNRUtNIHfNe",
        "outputId": "5e5b3e66-d6f4-48e2-c535-da5a01d8d148"
      },
      "execution_count": 33,
      "outputs": [
        {
          "output_type": "execute_result",
          "data": {
            "text/plain": [
              "2.0     8110\n",
              "1.0     3261\n",
              "3.0     2703\n",
              "4.0     1222\n",
              "5.0      199\n",
              "6.0       20\n",
              "7.0        4\n",
              "9.0        1\n",
              "8.0        1\n",
              "10.0       1\n",
              "Name: CNT_FAM_MEMBERS, dtype: int64"
            ]
          },
          "metadata": {},
          "execution_count": 33
        }
      ]
    },
    {
      "cell_type": "code",
      "source": [
        "df['WEEKDAY_APPR_PROCESS_START'].value_counts()"
      ],
      "metadata": {
        "colab": {
          "base_uri": "https://localhost:8080/"
        },
        "id": "BbFOHQuiIkDZ",
        "outputId": "ac1c4b0d-5f12-48d4-ab90-9bcf9cc9ba54"
      },
      "execution_count": 35,
      "outputs": [
        {
          "output_type": "execute_result",
          "data": {
            "text/plain": [
              "TUESDAY      2670\n",
              "FRIDAY       2600\n",
              "MONDAY       2582\n",
              "WEDNESDAY    2577\n",
              "THURSDAY     2558\n",
              "SATURDAY     1717\n",
              "SUNDAY        818\n",
              "Name: WEEKDAY_APPR_PROCESS_START, dtype: int64"
            ]
          },
          "metadata": {},
          "execution_count": 35
        }
      ]
    },
    {
      "cell_type": "markdown",
      "source": [
        "CNT_FAM_MEMBERS: This column represents the number of family members in the loan applicant's household. This information can be used to assess the applicant's financial obligations and potential need for the loan.\n",
        "\n",
        "REGION_RATING_CLIENT: This column represents the credit rating of the region where the loan applicant lives. This information can be used to assess the overall economic conditions and financial stability of the applicant's region.\n",
        "\n",
        "REGION_RATING_CLIENT_W_CITY: This column represents the credit rating of the region and city where the loan applicant lives. This information provides a more specific assessment of the economic conditions and financial stability of the applicant's location.\n",
        "\n",
        "WEEKDAY_APPR_PROCESS_START: This column indicates the day of the week when the loan application was processed. This information may be used to identify any potential patterns or trends in loan approvals or rejections based on the day of the week.\n",
        "\n",
        "HOUR_APPR_PROCESS_START: This column indicates the hour of the day when the loan application was processed. This information may be used to identify any potential patterns or trends in loan approvals or rejections based on the time of day.\n",
        "\n",
        "REG_REGION_NOT_LIVE_REGION: This column indicates whether the applicant's registered region is different from their current living region. A value of 1 indicates a difference, while a value of 0 indicates that the regions are the same.\n",
        "\n",
        "REG_REGION_NOT_WORK_REGION: This column indicates whether the applicant's registered region is different from their work region. A value of 1 indicates a difference, while a value of 0 indicates that the regions are the same.\n",
        "\n",
        "LIVE_REGION_NOT_WORK_REGION: This column indicates whether the applicant's current living region is different from their work region. A value of 1 indicates a difference, while a value of 0 indicates that the regions are the same.\n",
        "\n",
        "REG_CITY_NOT_LIVE_CITY: This column indicates whether the applicant's registered city is different from their current living city. A value of 1 indicates a difference, while a value of 0 indicates that the cities are the same.\n",
        "\n",
        "REG_CITY_NOT_WORK_CITY: This column indicates whether the applicant's registered city is different from their work city. A value of 1 indicates a difference, while a value of 0 indicates that the cities are the same.\n",
        "\n",
        "LIVE_CITY_NOT_WORK_CITY: This column indicates whether the applicant's current living city is different from their work city. A value of 1 indicates a difference, while a value of 0 indicates that the cities are the same."
      ],
      "metadata": {
        "id": "43Avdfg2JZHp"
      }
    },
    {
      "cell_type": "markdown",
      "source": [
        "EXT_SOURCE_1: This feature represents the value of an external source of information about the loan applicant. The specific source of information is not provided, but it could be related to the applicant's creditworthiness, income, or employment.\n",
        "\n",
        "EXT_SOURCE_2: This feature represents the value of another external source of information about the loan applicant. Similar to EXT_SOURCE_1, the specific source is not provided, but it could provide additional insights into the applicant's financial situation.\n",
        "\n",
        "EXT_SOURCE_3: This feature represents the value of a third external source of information about the loan applicant. Again, the specific source is not specified, but it could be used to further assess the applicant's creditworthiness.\n",
        "\n",
        "APARTMENTS_AVG: This feature represents the average number of apartments in the buildings located in the same area as the loan applicant's property. This information could be used to assess the density of the neighborhood and the potential demand for rental properties.\n",
        "\n",
        "BASEMENTAREA_AVG: This feature represents the average basement area of the buildings located in the same area as the loan applicant's property. This information could be used to assess the size and type of properties in the neighborhood.\n",
        "\n",
        "YEARS_BEGINEXPLUATATION_AVG: This feature represents the average year when the buildings located in the same area as the loan applicant's property were first put into use. This information could be used to assess the age and potential condition of the properties in the neighborhood.\n",
        "\n",
        "YEARS_BUILD_AVG: This feature represents the average year when the buildings located in the same area as the loan applicant's property were constructed. This information is similar to YEARS_BEGINEXPLUATATION_AVG but may provide more specific details about the construction date.\n",
        "\n",
        "COMMONAREA_AVG: This feature represents the average common area of the buildings located in the same area as the loan applicant's property. This information could be used to assess the availability of shared spaces and amenities in the neighborhood.\n",
        "\n",
        "ELEVATORS_AVG: This feature represents the average number of elevators in the buildings located in the same area as the loan applicant's property. This information could be used to assess the accessibility and convenience of the buildings in the neighborhood.\n",
        "\n",
        "ENTRANCES_AVG: This feature represents the average number of entrances in the buildings located in the same area as the loan applicant's property. This information could be used to assess the accessibility and ease of ingress and egress for the buildings.\n",
        "\n",
        "FLOORSMAX_AVG: This feature represents the average maximum number of floors in the buildings located in the same area as the loan applicant's property. This information could be used to assess the height and type of buildings in the neighborhood.\n",
        "\n",
        "FLOORSMIN_AVG: This feature represents the average minimum number of floors in the buildings located in the same area as the loan applicant's property. This information could be used to assess the variety of building types and sizes in the neighborhood.\n",
        "\n",
        "LANDAREA_AVG: This feature represents the average land area of the buildings located in the same area as the loan applicant's property. This information could be used to assess the size of the properties and the potential for outdoor space.\n",
        "\n",
        "LIVINGAPARTMENTS_AVG: This feature represents the average number of living apartments in the buildings located in the same area as the loan applicant's property. This information could be used to assess the occupancy rate and potential demand for rental properties.\n",
        "\n",
        "LIVINGAREA_AVG: This feature represents the average living area of the apartments in the buildings located in the same area as the loan applicant's property. This information could be used to assess the size and spaciousness of the apartments in the neighborhood.\n",
        "\n",
        "NONLIVINGAPARTMENTS_AVG: This feature represents the average number of non-living apartments (such as commercial or office spaces) in the buildings located in the same area as the loan applicant's property. This information could be used to assess the mix of residential and non-residential uses in the neighborhood.\n",
        "\n",
        "NONLIVINGAREA_AVG: This feature represents the average non-living area of the apartments (such as commercial or office spaces) in the buildings located in the same area as the loan applicant's property. This information could be used to assess the extent of non-residential usage in the neighborhood.\n",
        "\n",
        "APARTMENTS_MODE: This feature represents the most common number of apartments in the buildings located in the same area as the loan applicant's property. This information could be used to identify the typical size of buildings in the neighborhood.\n",
        "\n",
        "BASEMENTAREA_MODE: This feature represents the most common basement area in the buildings located in the same area as the loan applicant's property. This information could be used to identify the typical basement size for properties in the neighborhood"
      ],
      "metadata": {
        "id": "XMjahsfIKiV5"
      }
    },
    {
      "cell_type": "code",
      "source": [],
      "metadata": {
        "id": "A7QepnwEJOkw"
      },
      "execution_count": null,
      "outputs": []
    }
  ]
}